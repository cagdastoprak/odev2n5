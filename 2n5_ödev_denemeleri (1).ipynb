{
  "nbformat": 4,
  "nbformat_minor": 0,
  "metadata": {
    "colab": {
      "name": "2n5 ödev denemeleri.ipynb",
      "provenance": [],
      "toc_visible": true
    },
    "kernelspec": {
      "name": "python3",
      "display_name": "Python 3"
    }
  },
  "cells": [
    {
      "cell_type": "markdown",
      "metadata": {
        "id": "20HpAc35T1Zh",
        "colab_type": "text"
      },
      "source": [
        "1Seçeceğiniz herhangi bir şiiri bilgisayarına .txt dsyası olarak kaydedin. Şiirin kaç dizeden oluştuğunu hesaplayın ve başka bir dosyaya her dizenin ilk kelimesini yazdırın.\n",
        "\n",
        "2Parametre olarak girilen bir sayının asal sayı olup olmadığını belirten bir fonksiyon yazın.\n",
        "\n",
        "3Parametre olarak girilecek listenin elemanlarını yeni bir listeye her değer sadece bir kere geçecek şekilde aktaran bir fonksiyon yazın. Normalde bu işlemi set() komutu ile yapabiliriz ama bu seferlik bu komutu kullanmayalım.\n",
        "\n",
        " Örnek : uniq_liste([1,2,2,3,3,4,4]) = [1,2,3,4]\n",
        " \n",
        "4Python'da hazır birçok modül bulunmaktadır. Zaman ile ilgili modüllerden birisini import ederek, parametre olarak doğum tarihi alan ve yaşı döndüren bir fonksiyon yazınız."
      ]
    },
    {
      "cell_type": "code",
      "metadata": {
        "id": "9svgFe-CTxOk",
        "colab_type": "code",
        "outputId": "db07677c-feb9-40ca-c3d6-1cc897141ce6",
        "colab": {
          "base_uri": "https://localhost:8080/",
          "height": 185
        }
      },
      "source": [
        "x=int(input('Bir Sayı gir asallığını sorgula  ?')) ## Asal ararken bölünmüyosa 0 ver dedim toplam aldım tüm sonuçları 0 çıkınca sonuç asaldır dedik :D Nicely Done\n",
        "\n",
        "def asalsayi(x):\n",
        "  print(x)\n",
        "  sonuclar = []\n",
        "  for a in range(2,x):\n",
        "      print(a)\n",
        "      if x%a==0:\n",
        "        print(a)\n",
        "        sonuclar.append(1)\n",
        "      else:\n",
        "        print(a)\n",
        "        sonuclar.append(0)\n",
        "  print('sum :',sum(sonuclar))      \n",
        "  return sum(sonuclar)\n",
        "\n",
        "toplam = asalsayi(x)\n",
        "if toplam == 0:\n",
        "  print('asal')\n",
        "else:\n",
        "  print('asal değildir')\n",
        "      "
      ],
      "execution_count": 0,
      "outputs": [
        {
          "output_type": "stream",
          "text": [
            "Bir Sayı gir asallığını sorgula  ?5\n",
            "5\n",
            "2\n",
            "2\n",
            "3\n",
            "3\n",
            "4\n",
            "4\n",
            "sum : 0\n",
            "asal\n"
          ],
          "name": "stdout"
        }
      ]
    },
    {
      "cell_type": "code",
      "metadata": {
        "id": "M7XWT0B8x4M4",
        "colab_type": "code",
        "colab": {}
      },
      "source": [
        "liste=input('Bir Liste girin [List] şeklinde') ##Burada fonk çalışıyo ama liste elemanlarını doğru karşılaştıramıyo çünkü i hep sabit\n",
        "liste=list(liste)\n",
        "uniq_list=[int(liste[0])]\n",
        "x=len(liste)\n",
        "print('length liste : ',x)\n",
        "print('list : ',liste)\n",
        "def ara():\n",
        "  for i in range(x):\n",
        "    print('i : ',i)\n",
        "    for n in range(x): ## n=2 i=0 iken, listeden 3. elemanı çekiyo, ama i 0 3. elemana eşit değil diye onu da ekliyo, diğer türlü de uniq in içinde yeterli eleman olmadığında arttıramıyo o yüzden silmeli bir method da deneyeceğim\n",
        "      print('n : ',n)\n",
        "      print(\"i (for(2nd)'nin içi : \", i)\n",
        "      print('liste(n) : ',int(liste[n]))\n",
        "      print('uniqliste(i) : ',int(uniq_list[i]) )\n",
        "      if int(liste[n]) != int(uniq_list[i]):\n",
        "        print('uniq_list ilk durum :D : ',uniq_list)\n",
        "        uniq_list.append(int(liste[n]))\n",
        "        print('uniq_list son durum :D : ',uniq_list)\n",
        "  return(uniq_list)\n",
        "ara()"
      ],
      "execution_count": 0,
      "outputs": []
    },
    {
      "cell_type": "code",
      "metadata": {
        "id": "8cl96VruGTZ0",
        "colab_type": "code",
        "colab": {
          "base_uri": "https://localhost:8080/",
          "height": 612
        },
        "outputId": "53b0e02c-6133-420d-a79b-7df7e25c9843"
      },
      "source": [
        "liste=input('Bir Liste girin [List] şeklinde') ## copy\n",
        "liste=list(liste)\n",
        "uniq_list=[int(liste[0])]\n",
        "x=len(liste)\n",
        "y=len(uniq_list)\n",
        "print('length liste : ',x)\n",
        "print('list : ',liste)\n",
        "def ara():\n",
        "  for n in range(x):\n",
        "    print('n : ',n)\n",
        "    for i in range(y): ## i yi arttırmıyo:S\n",
        "      print('i : ',i)\n",
        "      print(\"n (for(2nd)'nin içi : \", n)\n",
        "      print('liste(n) : ',int(liste[n]))\n",
        "      print('uniqliste(i) : ',int(uniq_list[i]) )\n",
        "      if int(liste[n]) != int(uniq_list[i]):\n",
        "        print('uniq_list ilk durum :D : ',uniq_list)\n",
        "        uniq_list.append(int(liste[n]))\n",
        "        print('uniq_list son durum :D : ',uniq_list)\n",
        "  return(uniq_list)\n",
        "ara()"
      ],
      "execution_count": 76,
      "outputs": [
        {
          "output_type": "stream",
          "text": [
            "Bir Liste girin [List] şeklinde12123\n",
            "length liste :  5\n",
            "list :  ['1', '2', '1', '2', '3']\n",
            "n :  0\n",
            "i :  0\n",
            "n (for(2nd)'nin içi :  0\n",
            "liste(n) :  1\n",
            "uniqliste(i) :  1\n",
            "n :  1\n",
            "i :  0\n",
            "n (for(2nd)'nin içi :  1\n",
            "liste(n) :  2\n",
            "uniqliste(i) :  1\n",
            "uniq_list ilk durum :D :  [1]\n",
            "uniq_list son durum :D :  [1, 2]\n",
            "n :  2\n",
            "i :  0\n",
            "n (for(2nd)'nin içi :  2\n",
            "liste(n) :  1\n",
            "uniqliste(i) :  1\n",
            "n :  3\n",
            "i :  0\n",
            "n (for(2nd)'nin içi :  3\n",
            "liste(n) :  2\n",
            "uniqliste(i) :  1\n",
            "uniq_list ilk durum :D :  [1, 2]\n",
            "uniq_list son durum :D :  [1, 2, 2]\n",
            "n :  4\n",
            "i :  0\n",
            "n (for(2nd)'nin içi :  4\n",
            "liste(n) :  3\n",
            "uniqliste(i) :  1\n",
            "uniq_list ilk durum :D :  [1, 2, 2]\n",
            "uniq_list son durum :D :  [1, 2, 2, 3]\n"
          ],
          "name": "stdout"
        },
        {
          "output_type": "execute_result",
          "data": {
            "text/plain": [
              "[1, 2, 2, 3]"
            ]
          },
          "metadata": {
            "tags": []
          },
          "execution_count": 76
        }
      ]
    },
    {
      "cell_type": "code",
      "metadata": {
        "id": "7PKO4qdEBrnU",
        "colab_type": "code",
        "colab": {}
      },
      "source": [
        "liste=input('Bir Liste girin [List] şeklinde') ##Silmeli olarak deneyelim aynı olanları silsin\n",
        "liste=list(liste)\n",
        "uniq_list=liste\n",
        "uzun=len(liste)\n"
      ],
      "execution_count": 0,
      "outputs": []
    },
    {
      "cell_type": "code",
      "metadata": {
        "id": "6CsMxt3k94SY",
        "colab_type": "code",
        "colab": {}
      },
      "source": [
        "liste=input('Bir Liste girin [List] şeklinde') ## Buradada iterasyon yapmaıyorum diyo anlamlandıramadım bir türlü\n",
        "liste=list(liste)\n",
        "uniq_list=[int(liste[0])]\n",
        "x=len(liste)\n",
        "print('length liste : ',x)\n",
        "print('list : ',liste)\n",
        "def ara():\n",
        "  for i,n in range(x):\n",
        "    print('i : ',i)\n",
        "    print('n : ',n)\n",
        "    print('liste(n) : ',int(liste[n]))\n",
        "    print('uniqliste(i) : ',int(uniq_list[i]) )\n",
        "    if int(liste[n]) != int(uniq_list[i]):\n",
        "      print('uniq_list ilk durum :D : ',uniq_list)\n",
        "      uniq_list.append(int(liste[n]))\n",
        "      print('uniq_list son durum :D : ',uniq_list)\n",
        "  return(uniq_list)\n",
        "ara()"
      ],
      "execution_count": 0,
      "outputs": []
    },
    {
      "cell_type": "code",
      "metadata": {
        "id": "6-RGjjyCYXL9",
        "colab_type": "code",
        "colab": {}
      },
      "source": [
        "## Bu en eski hali mantık olarak dursun istedim \n",
        "liste=input('Bir Liste girin [List] şeklinde')\n",
        "print(liste)\n",
        "uniq_list=[]\n",
        "\n",
        "def searcher(): \n",
        "    for n,i in range(len(uniq_list)):\n",
        "      print('lenlist : ',len(uniq_list))\n",
        "      if liste[n]==uniq_list[i]:\n",
        "         uniq_list.append(n) \n",
        "    return uniq_list  \n",
        "print(searcher())\n",
        "  "
      ],
      "execution_count": 0,
      "outputs": []
    },
    {
      "cell_type": "code",
      "metadata": {
        "id": "w-N96pOpvo4P",
        "colab_type": "code",
        "colab": {}
      },
      "source": [
        "# Import PyDrive and associated libraries.\n",
        "# This only needs to be done once per notebook.\n",
        "from pydrive.auth import GoogleAuth\n",
        "from pydrive.drive import GoogleDrive\n",
        "from google.colab import auth\n",
        "from oauth2client.client import GoogleCredentials\n",
        "\n",
        "# Authenticate and create the PyDrive client.\n",
        "# This only needs to be done once per notebook.\n",
        "auth.authenticate_user()\n",
        "gauth = GoogleAuth()\n",
        "gauth.credentials = GoogleCredentials.get_application_default()\n",
        "drive = GoogleDrive(gauth)\n",
        "\n",
        "# Download a file based on its file ID.\n",
        "#\n",
        "# A file ID looks like: laggVyWshwcyP6kEI-y_W3P8D26sz\n",
        "file_id = '1gHuxUsCOMMgi3IHDqsT5WJU32ex0Geu9'\n",
        "downloaded = drive.CreateFile({'id': file_id})\n",
        "print('Downloaded content \"{}\"'.format(downloaded.GetContentString()))"
      ],
      "execution_count": 0,
      "outputs": []
    },
    {
      "cell_type": "code",
      "metadata": {
        "id": "tkye81LEKMMq",
        "colab_type": "code",
        "colab": {
          "base_uri": "https://localhost:8080/",
          "height": 163
        },
        "outputId": "5d94432f-67f9-4de2-ba99-02218aefaf3e"
      },
      "source": [
        "gmtime(+3)"
      ],
      "execution_count": 83,
      "outputs": [
        {
          "output_type": "error",
          "ename": "NameError",
          "evalue": "ignored",
          "traceback": [
            "\u001b[0;31m---------------------------------------------------------------------------\u001b[0m",
            "\u001b[0;31mNameError\u001b[0m                                 Traceback (most recent call last)",
            "\u001b[0;32m<ipython-input-83-ab2732733e9d>\u001b[0m in \u001b[0;36m<module>\u001b[0;34m()\u001b[0m\n\u001b[0;32m----> 1\u001b[0;31m \u001b[0mgmtime\u001b[0m\u001b[0;34m(\u001b[0m\u001b[0;34m+\u001b[0m\u001b[0;36m3\u001b[0m\u001b[0;34m)\u001b[0m\u001b[0;34m\u001b[0m\u001b[0;34m\u001b[0m\u001b[0m\n\u001b[0m",
            "\u001b[0;31mNameError\u001b[0m: name 'gmtime' is not defined"
          ]
        }
      ]
    },
    {
      "cell_type": "code",
      "metadata": {
        "id": "k8QPZbOkLaLx",
        "colab_type": "code",
        "colab": {}
      },
      "source": [
        ""
      ],
      "execution_count": 0,
      "outputs": []
    }
  ]
}