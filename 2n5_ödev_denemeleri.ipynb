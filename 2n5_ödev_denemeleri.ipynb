{
  "nbformat": 4,
  "nbformat_minor": 0,
  "metadata": {
    "colab": {
      "name": "2n5 ödev denemeleri.ipynb",
      "provenance": []
    },
    "kernelspec": {
      "name": "python3",
      "display_name": "Python 3"
    }
  },
  "cells": [
    {
      "cell_type": "markdown",
      "metadata": {
        "id": "20HpAc35T1Zh",
        "colab_type": "text"
      },
      "source": [
        "1Seçeceğiniz herhangi bir şiiri bilgisayarına .txt dsyası olarak kaydedin. Şiirin kaç dizeden oluştuğunu hesaplayın ve başka bir dosyaya her dizenin ilk kelimesini yazdırın.\n",
        "\n",
        "2Parametre olarak girilen bir sayının asal sayı olup olmadığını belirten bir fonksiyon yazın.\n",
        "\n",
        "3Parametre olarak girilecek listenin elemanlarını yeni bir listeye her değer sadece bir kere geçecek şekilde aktaran bir fonksiyon yazın. Normalde bu işlemi set() komutu ile yapabiliriz ama bu seferlik bu komutu kullanmayalım.\n",
        "\n",
        " Örnek : uniq_liste([1,2,2,3,3,4,4]) = [1,2,3,4]\n",
        " \n",
        "4Python'da hazır birçok modül bulunmaktadır. Zaman ile ilgili modüllerden birisini import ederek, parametre olarak doğum tarihi alan ve yaşı döndüren bir fonksiyon yazınız."
      ]
    },
    {
      "cell_type": "code",
      "metadata": {
        "id": "9svgFe-CTxOk",
        "colab_type": "code",
        "colab": {
          "base_uri": "https://localhost:8080/",
          "height": 34
        },
        "outputId": "1fbc2925-da59-4e11-bf92-7504a6334734"
      },
      "source": [
        "x=int(input('Bir Sayı gir asallığını sorgula  ?'))\n",
        "\n",
        "def asalsayi(a,x):\n",
        "  print(x)\n",
        "  a==0\n",
        "  for a in range(1,x):\n",
        "      print(a)\n",
        "      if x%a==0:\n",
        "        sonuc='AsalDeğil'\n",
        "        return sonuc\n",
        "        print(a)\n",
        "      else:\n",
        "       sonuc='Asal'\n",
        "    \n",
        "       print(sonuc)\n",
        "      return sonuc\n",
        "      \n",
        "      "
      ],
      "execution_count": 17,
      "outputs": [
        {
          "output_type": "stream",
          "text": [
            "Bir Sayı gir asallığını sorgula  ?10\n"
          ],
          "name": "stdout"
        }
      ]
    },
    {
      "cell_type": "code",
      "metadata": {
        "id": "6-RGjjyCYXL9",
        "colab_type": "code",
        "colab": {
          "base_uri": "https://localhost:8080/",
          "height": 51
        },
        "outputId": "84405cb6-8025-45e5-b4f2-a29d64cef4d9"
      },
      "source": [
        "\n",
        "liste=input('Bir Liste girin [List] şeklinde')\n",
        "print(liste)\n",
        "uniq_list=[]\n",
        "for i in range(len(liste)):\n",
        "  def searcher(n):\n",
        "    for n in range(len(liste)):\n",
        "      if liste[i]==liste[n]:\n",
        "        return uniq_list.append(n)\n",
        "        print(uniq_list)\n",
        "  "
      ],
      "execution_count": 30,
      "outputs": [
        {
          "output_type": "stream",
          "text": [
            "Bir Liste girin [List] şeklinde[1,2,2,3]\n",
            "[1,2,2,3]\n"
          ],
          "name": "stdout"
        }
      ]
    }
  ]
}